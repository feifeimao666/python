{
 "cells": [
  {
   "cell_type": "markdown",
   "metadata": {},
   "source": [
    "## 老师引导：字符串与数字的区别"
   ]
  },
  {
   "cell_type": "code",
   "execution_count": null,
   "metadata": {},
   "outputs": [],
   "source": [
    "print('1')\n",
    "print(1)\n",
    "print('1+1')\n",
    "print(1+1)"
   ]
  },
  {
   "cell_type": "markdown",
   "metadata": {},
   "source": [
    "第1和2行输出结果是一样的，但是本质不一样，前者是字符串后者是数字。第3行输出的是字符串内容本身，而第4行Python会自动计算出数字相加的结果后输出。"
   ]
  },
  {
   "cell_type": "markdown",
   "metadata": {},
   "source": [
    "- 尝试输出字符串'520+1314'\n",
    "- 尝试输出数字520+1314"
   ]
  },
  {
   "cell_type": "code",
   "execution_count": null,
   "metadata": {},
   "outputs": [],
   "source": [
    "print('520+1314')\n",
    "print(520+1314)"
   ]
  },
  {
   "cell_type": "markdown",
   "metadata": {},
   "source": [
    "## 自主探索：算数运算符\n",
    "\n",
    "Python中有加(+)、减(-)、乘(*)、除(/)、求余数(%)、取整数(//)\n",
    "\n",
    "请同学们尝试使用print()指令将下面的结果输出\n",
    "\n",
    "- 7+3\n",
    "- 7-3 \n",
    "- 7*3\n",
    "- 7/3\n",
    "- 7%3\n",
    "- 7//3"
   ]
  },
  {
   "cell_type": "code",
   "execution_count": 1,
   "metadata": {},
   "outputs": [
    {
     "name": "stdout",
     "output_type": "stream",
     "text": [
      "10\n"
     ]
    }
   ],
   "source": [
    "print(7+3)"
   ]
  },
  {
   "cell_type": "markdown",
   "metadata": {},
   "source": [
    "## 课后联系：算数运算符的生活应用\n",
    "\n",
    "- 请问一年365天有多少周？\n",
    "- 学校有1000000元采购电脑的经费，每台联想电脑2999元，请问最多可以买几台，还剩多少钱？"
   ]
  },
  {
   "cell_type": "code",
   "execution_count": null,
   "metadata": {},
   "outputs": [],
   "source": [
    "print(365//7)\n",
    "print(1000000//2999)\n",
    "print(1000000%2999)"
   ]
  },
  {
   "cell_type": "code",
   "execution_count": 4,
   "metadata": {},
   "outputs": [
    {
     "name": "stdin",
     "output_type": "stream",
     "text": [
      "输入 k\n"
     ]
    },
    {
     "name": "stdout",
     "output_type": "stream",
     "text": [
      "True\n"
     ]
    }
   ],
   "source": [
    "a=input('输入')\n",
    "print(a=='k')"
   ]
  },
  {
   "cell_type": "code",
   "execution_count": null,
   "metadata": {},
   "outputs": [],
   "source": []
  }
 ],
 "metadata": {
  "kernelspec": {
   "display_name": "Python 3",
   "language": "python",
   "name": "python3"
  },
  "language_info": {
   "codemirror_mode": {
    "name": "ipython",
    "version": 3
   },
   "file_extension": ".py",
   "mimetype": "text/x-python",
   "name": "python",
   "nbconvert_exporter": "python",
   "pygments_lexer": "ipython3",
   "version": "3.7.2"
  }
 },
 "nbformat": 4,
 "nbformat_minor": 4
}
